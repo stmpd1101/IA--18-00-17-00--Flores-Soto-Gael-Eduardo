{
 "cells": [
  {
   "cell_type": "code",
   "execution_count": 1,
   "id": "c969b76a",
   "metadata": {},
   "outputs": [
    {
     "name": "stdout",
     "output_type": "stream",
     "text": [
      "Recorrido Inorden: [20, 30, 40, 50, 60, 70, 80]\n",
      "Recorrido Preorden: [50, 30, 20, 40, 70, 60, 80]\n",
      "Recorrido Postorden: [20, 40, 30, 60, 80, 70, 50]\n"
     ]
    }
   ],
   "source": [
    "class Nodo:\n",
    "    def __init__(self, valor):\n",
    "        self.valor = valor\n",
    "        self.izquierda = None\n",
    "        self.derecha = None\n",
    "\n",
    "class ArbolBinarioBusqueda:\n",
    "    def __init__(self): \n",
    "        self.raiz = None\n",
    "\n",
    "    def insertar(self, valor):\n",
    "        if self.raiz is None:\n",
    "            self.raiz = Nodo(valor)\n",
    "        else:\n",
    "            self._insertar_recursivo(self.raiz, valor)\n",
    "\n",
    "    def _insertar_recursivo(self, nodo_actual, valor):\n",
    "        if valor < nodo_actual.valor:\n",
    "            if nodo_actual.izquierda is None:\n",
    "                nodo_actual.izquierda = Nodo(valor)\n",
    "            else:\n",
    "                self._insertar_recursivo(nodo_actual.izquierda, valor)\n",
    "        elif valor > nodo_actual.valor:\n",
    "            if nodo_actual.derecha is None:\n",
    "                nodo_actual.derecha = Nodo(valor)\n",
    "            else:\n",
    "                self._insertar_recursivo(nodo_actual.derecha, valor)\n",
    "\n",
    "    def recorrido_inorden(self):\n",
    "        return self._inorden(self.raiz)\n",
    "\n",
    "    def _inorden(self, nodo):\n",
    "        if nodo is None:\n",
    "            return []\n",
    "        return self._inorden(nodo.izquierda) + [nodo.valor] + self._inorden(nodo.derecha)\n",
    "\n",
    "    def recorrido_preorden(self):\n",
    "        return self._preorden(self.raiz)\n",
    "\n",
    "    def _preorden(self, nodo):\n",
    "        if nodo is None:\n",
    "            return []\n",
    "        return [nodo.valor] + self._preorden(nodo.izquierda) + self._preorden(nodo.derecha)\n",
    "\n",
    "    def recorrido_postorden(self):\n",
    "        return self._postorden(self.raiz)\n",
    "\n",
    "    def _postorden(self, nodo):\n",
    "        if nodo is None:\n",
    "            return []\n",
    "        return self._postorden(nodo.izquierda) + self._postorden(nodo.derecha) + [nodo.valor]\n",
    "\n",
    "if __name__ == \"__main__\":\n",
    "    arbol = ArbolBinarioBusqueda()\n",
    "    valores = [50, 30, 70, 20, 40, 60, 80]\n",
    "    for v in valores:\n",
    "        arbol.insertar(v)\n",
    "\n",
    "    print(\"Recorrido Inorden:\", arbol.recorrido_inorden())\n",
    "    print(\"Recorrido Preorden:\", arbol.recorrido_preorden())\n",
    "    print(\"Recorrido Postorden:\", arbol.recorrido_postorden())"
   ]
  }
 ],
 "metadata": {
  "kernelspec": {
   "display_name": ".venv",
   "language": "python",
   "name": "python3"
  },
  "language_info": {
   "codemirror_mode": {
    "name": "ipython",
    "version": 3
   },
   "file_extension": ".py",
   "mimetype": "text/x-python",
   "name": "python",
   "nbconvert_exporter": "python",
   "pygments_lexer": "ipython3",
   "version": "3.12.1"
  }
 },
 "nbformat": 4,
 "nbformat_minor": 5
}
